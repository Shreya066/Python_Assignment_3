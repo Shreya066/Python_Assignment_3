{
 "cells": [
  {
   "cell_type": "markdown",
   "id": "1e0695a9",
   "metadata": {},
   "source": [
    "**1. Why are functions advantageous to have in your programs?**\n",
    "\n",
    "Functions are advantageous to have in a program as it enables us to use the same logic several times. It reduces the need to rewrite the same code several times. We just have to crate the function using def and then we can call the same function over and over again. It also makes the program shorter and easier to read and update."
   ]
  },
  {
   "cell_type": "markdown",
   "id": "acdc910e",
   "metadata": {},
   "source": [
    "**2. When does the code in a function run: when it's specified or when it's called?**\n",
    "\n",
    "The code in a function runs when the function is called not when it is specified.\n",
    "\n"
   ]
  },
  {
   "cell_type": "markdown",
   "id": "1e259baa",
   "metadata": {},
   "source": [
    "**3. What statement creates a function?**\n",
    "\n",
    "def statement creates a function"
   ]
  },
  {
   "cell_type": "code",
   "execution_count": 3,
   "id": "a48810a8",
   "metadata": {},
   "outputs": [],
   "source": [
    "#example of creating a function\n",
    "def my_function(a,b):\n",
    "    return a+b"
   ]
  },
  {
   "cell_type": "code",
   "execution_count": 4,
   "id": "c92879a9",
   "metadata": {},
   "outputs": [
    {
     "data": {
      "text/plain": [
       "11"
      ]
     },
     "execution_count": 4,
     "metadata": {},
     "output_type": "execute_result"
    }
   ],
   "source": [
    "my_function(5,6)"
   ]
  },
  {
   "cell_type": "markdown",
   "id": "ac437f37",
   "metadata": {},
   "source": [
    "**4. What is the difference between a function and a function call?**\n",
    "\n",
    "A function is the procedure to achieve a particular result whereas function call is using that particular function to  (that has been created ) achieve that task."
   ]
  },
  {
   "cell_type": "markdown",
   "id": "608e4b04",
   "metadata": {},
   "source": [
    "**5. How many global scopes are there in a Python program? How many local scopes?**\n",
    "\n",
    "There is only one global scope per program execution and a local scope is created whenever a function is called"
   ]
  },
  {
   "cell_type": "markdown",
   "id": "f1ab5697",
   "metadata": {},
   "source": [
    "**6. What happens to variables in a local scope when the function call returns?**\n",
    "\n",
    "When the function call returns, the local variables are destroyed and all the variables inside a function are forgotten."
   ]
  },
  {
   "cell_type": "markdown",
   "id": "5e9205fb",
   "metadata": {},
   "source": [
    "**7. What is the concept of a return value? Is it possible to have a return value in an expression?**\n",
    "\n",
    "A return value is defined as a value that a function returns when it has completed it's task. It is possible to have a return value as a part of an expression.\n"
   ]
  },
  {
   "cell_type": "markdown",
   "id": "99e118a5",
   "metadata": {},
   "source": [
    "**8. If a function does not have a return statement, what is the return value of a call to that function?**\n",
    "\n",
    "If a function does not have a return statement, its's return value will be *None*."
   ]
  },
  {
   "cell_type": "markdown",
   "id": "bf75cd79",
   "metadata": {},
   "source": [
    "**9. How do you make a function variable refer to the global variable?**\n",
    "\n",
    "By using the *global* keyword one can declare the variable as global."
   ]
  },
  {
   "cell_type": "markdown",
   "id": "91c18d0b",
   "metadata": {},
   "source": [
    "**10. What is the data type of None?**\n",
    "\n",
    "None type"
   ]
  },
  {
   "cell_type": "markdown",
   "id": "91e834be",
   "metadata": {},
   "source": [
    "**11. What does the sentence import areallyourpetsnamederic do?**\n",
    "\n",
    "It will import the module named areallyourpetsnamederic."
   ]
  },
  {
   "cell_type": "markdown",
   "id": "a7ec4aad",
   "metadata": {},
   "source": [
    "**12. If you had a bacon() feature in a spam module, what would you call it after importing spam?**\n",
    "\n",
    "spam.bacon()"
   ]
  },
  {
   "cell_type": "markdown",
   "id": "7bda56c6",
   "metadata": {},
   "source": [
    "**13. What can you do to save a programme from crashing if it encounters an error?**\n",
    "\n",
    "To save a programme from crashing we can place the code in *try block* and use *except block* to handle the error."
   ]
  },
  {
   "cell_type": "markdown",
   "id": "9d8b8af4",
   "metadata": {},
   "source": [
    "**14. What is the purpose of the try clause? What is the purpose of the except clause?**\n",
    "\n",
    "The code in the try clause is used to check whether there is any error in the code i.e. the code inside the try block will excute only if there is no error in the program whereas the code in the except block will execute whenever the program encounters some error in the preceding try clause."
   ]
  }
 ],
 "metadata": {
  "kernelspec": {
   "display_name": "Python 3 (ipykernel)",
   "language": "python",
   "name": "python3"
  },
  "language_info": {
   "codemirror_mode": {
    "name": "ipython",
    "version": 3
   },
   "file_extension": ".py",
   "mimetype": "text/x-python",
   "name": "python",
   "nbconvert_exporter": "python",
   "pygments_lexer": "ipython3",
   "version": "3.9.7"
  }
 },
 "nbformat": 4,
 "nbformat_minor": 5
}
